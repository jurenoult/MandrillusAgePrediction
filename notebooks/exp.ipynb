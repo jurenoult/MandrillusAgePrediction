{
 "cells": [
  {
   "cell_type": "code",
   "execution_count": 1,
   "metadata": {},
   "outputs": [
    {
     "name": "stderr",
     "output_type": "stream",
     "text": [
      "100%|██████████| 493/493 [00:00<00:00, 1436.99it/s]\n"
     ]
    },
    {
     "data": {
      "image/png": "[encoded data removed]",
      "text/plain": [
       "<Figure size 640x480 with 1 Axes>"
      ]
     },
     "metadata": {},
     "output_type": "display_data"
    }
   ],
   "source": [
    "import pandas as pd\n",
    "import datetime\n",
    "\n",
    "from mandrill.dataset import read_dataset, MandrillTripleImageDataset, MandrillImageDataset, filter_by_qty\n",
    "\n",
    "max_age = 1\n",
    "max_days = 365 * max_age\n",
    "\n",
    "dataset_path = \"../data/db2/MFD_metadatas.csv\"\n",
    "\n",
    "data = read_dataset(dataset_path, filter_dob_error=False, filter_certainty=True, max_age=max_days, max_dob_error=10)\n",
    "hist = data[\"age\"].hist(bins=25)\n",
    "\n",
    "dataset = MandrillImageDataset(root_dir='../data/db2/Images/', dataframe=data, in_mem=True, max_days=max_days)"
   ]
  },
  {
   "cell_type": "code",
   "execution_count": 2,
   "metadata": {},
   "outputs": [
    {
     "name": "stdout",
     "output_type": "stream",
     "text": [
      "Using device: cuda\n"
     ]
    },
    {
     "name": "stderr",
     "output_type": "stream",
     "text": [
      "100%|██████████| 7/7 [00:03<00:00,  1.80it/s]\n",
      "100%|██████████| 2/2 [00:00<00:00,  8.00it/s]\n"
     ]
    },
    {
     "name": "stdout",
     "output_type": "stream",
     "text": [
      "Epoch [1/100] - Train Loss: 0.0732 - Val L1: 0.2236\n"
     ]
    },
    {
     "name": "stderr",
     "output_type": "stream",
     "text": [
      "100%|██████████| 7/7 [00:02<00:00,  2.40it/s]\n",
      "100%|██████████| 2/2 [00:00<00:00,  8.20it/s]\n"
     ]
    },
    {
     "name": "stdout",
     "output_type": "stream",
     "text": [
      "Epoch [2/100] - Train Loss: 0.0704 - Val L1: 0.2219\n"
     ]
    },
    {
     "name": "stderr",
     "output_type": "stream",
     "text": [
      "100%|██████████| 7/7 [00:02<00:00,  2.40it/s]\n",
      "100%|██████████| 2/2 [00:00<00:00,  7.96it/s]\n"
     ]
    },
    {
     "name": "stdout",
     "output_type": "stream",
     "text": [
      "Epoch [3/100] - Train Loss: 0.0563 - Val L1: 0.2254\n"
     ]
    },
    {
     "name": "stderr",
     "output_type": "stream",
     "text": [
      "100%|██████████| 7/7 [00:02<00:00,  2.38it/s]\n",
      "100%|██████████| 2/2 [00:00<00:00,  7.83it/s]\n"
     ]
    },
    {
     "name": "stdout",
     "output_type": "stream",
     "text": [
      "Epoch [4/100] - Train Loss: 0.0397 - Val L1: 0.2870\n"
     ]
    },
    {
     "name": "stderr",
     "output_type": "stream",
     "text": [
      "100%|██████████| 7/7 [00:02<00:00,  2.37it/s]\n",
      "100%|██████████| 2/2 [00:00<00:00,  7.98it/s]\n"
     ]
    },
    {
     "name": "stdout",
     "output_type": "stream",
     "text": [
      "Epoch [5/100] - Train Loss: 0.0294 - Val L1: 0.2253\n"
     ]
    },
    {
     "name": "stderr",
     "output_type": "stream",
     "text": [
      "100%|██████████| 7/7 [00:02<00:00,  2.37it/s]\n",
      " 50%|█████     | 1/2 [00:00<00:00,  6.44it/s]"
     ]
    }
   ],
   "source": [
    "import torch\n",
    "import torch.nn as nn\n",
    "import torch.optim as optim\n",
    "from torch.utils.data import Dataset, DataLoader, random_split\n",
    "from torchvision.models import resnet18\n",
    "import cv2\n",
    "import os\n",
    "from tqdm import tqdm\n",
    "\n",
    "from mandrill.models import InceptionResnetV1, RegressionModel, VGGFace\n",
    "from mandrill.utils import split_dataset, load, save\n",
    "\n",
    "learning_rate = 1e-4\n",
    "batch_size = 64\n",
    "num_epochs = 100\n",
    "train_ratio = 0.8\n",
    "val_ratio = 0.2\n",
    "\n",
    "torch.manual_seed(0)\n",
    "train_loader, val_loader, train_dataset, val_dataset = split_dataset(dataset, train_ratio, batch_size, augment=False)\n",
    "\n",
    "# Model\n",
    "# backbone = InceptionResnetV1()\n",
    "backbone = VGGFace(start_filters=16)\n",
    "model = RegressionModel(backbone, input_dim=backbone.output_dim, lin_start=2048, n_lin=6)\n",
    "\n",
    "# Loss function\n",
    "criterion = nn.MSELoss()\n",
    "val_criterion = nn.L1Loss()\n",
    "\n",
    "# Optimizer\n",
    "optimizer = optim.Adam(model.parameters(), lr=learning_rate)\n",
    "\n",
    "device = torch.device('cuda' if torch.cuda.is_available() else 'cpu')\n",
    "print('Using device:', device)\n",
    "backbone = backbone.to(device)\n",
    "model = model.to(device)\n",
    "\n",
    "# Training loop\n",
    "for epoch in range(num_epochs):\n",
    "    model.train()  # Set the model to train mode\n",
    "    train_loss = 0.0\n",
    "    \n",
    "    for images, labels in tqdm(train_loader):\n",
    "        images, labels = images.to(device), labels.to(device)\n",
    "        optimizer.zero_grad()\n",
    "        \n",
    "        # Forward pass\n",
    "        outputs = model(images)\n",
    "        loss = criterion(outputs, labels)\n",
    "        \n",
    "        # Backward pass and optimization\n",
    "        loss.backward()\n",
    "        optimizer.step()\n",
    "        \n",
    "        train_loss += loss.item() * images.size(0)\n",
    "    \n",
    "    train_loss /= len(train_dataset)\n",
    "    \n",
    "    # Validation loop\n",
    "    model.eval()  # Set the model to evaluation mode\n",
    "    val_loss = 0.0\n",
    "    \n",
    "    with torch.no_grad():\n",
    "        for images, labels in tqdm(val_loader):\n",
    "            images, labels = images.to(device), labels.to(device)\n",
    "            outputs = model(images)\n",
    "            loss = val_criterion(outputs, labels)\n",
    "            val_loss += loss.item() * images.size(0)\n",
    "    \n",
    "    val_loss /= len(val_dataset)\n",
    "    \n",
    "    # Print training and validation metrics\n",
    "    print(f\"Epoch [{epoch+1}/{num_epochs}] - \"\n",
    "          f\"Train Loss: {train_loss:.4f} - \"\n",
    "          f\"Val L1: {val_loss:.4f}\")"
   ]
  },
  {
   "cell_type": "code",
   "execution_count": null,
   "metadata": {},
   "outputs": [],
   "source": [
    "import matplotlib.pyplot as plt\n",
    "import numpy as np\n",
    "\n",
    "from mandrill.utils import load\n",
    "\n",
    "# model = load(model, \"vgg_face\", exp_name=\"exp1_regression\")\n",
    "\n",
    "val_loader = DataLoader(val_dataset, batch_size=1, shuffle=False)\n",
    "\n",
    "max_display = 10\n",
    "\n",
    "age_errors = []\n",
    "age_truth = []\n",
    "age_predicted = []\n",
    "\n",
    "model.eval()\n",
    "\n",
    "# Perform inference on validation images\n",
    "for i, (images, targets) in enumerate(val_loader):\n",
    "    # Forward pass\n",
    "    images = images.to(device)\n",
    "    outputs = model(images)\n",
    "    \n",
    "    # Convert the outputs to numpy arrays\n",
    "    predicted_values = outputs.squeeze().detach().cpu().numpy() * 365\n",
    "    actual_values = targets.squeeze().cpu().numpy() * 365\n",
    "    \n",
    "    age_errors.append(predicted_values - actual_values)\n",
    "    age_truth.append(actual_values)\n",
    "    age_predicted.append(predicted_values)\n",
    "    \n",
    "    if i >= max_display:\n",
    "        continue\n",
    "    \n",
    "    # Display the results\n",
    "    print(\"Predicted Values:\", predicted_values)\n",
    "    print(\"Actual Values:\", actual_values)\n",
    "    print(\"Prediction Error: \", predicted_values - actual_values)\n",
    "    print()  # Add an empty line for separation\n",
    "    \n",
    "    # Visualize the images and predictions\n",
    "    plt.imshow(images.squeeze().cpu().permute(1, 2, 0))\n",
    "    plt.title(f\"Predicted: {predicted_values}, Actual: {actual_values}\")\n",
    "    plt.show()\n",
    "\n",
    "age_errors = np.array(age_errors)\n",
    "print(\"Absolute age error (in days): \", np.mean(age_errors), \" std: \", np.std(age_errors))"
   ]
  },
  {
   "cell_type": "code",
   "execution_count": null,
   "metadata": {},
   "outputs": [],
   "source": [
    "# Histogram with x being the real age and y being the error on this age\n",
    "# Plotting the histogram\n",
    "\n",
    "def group_by(x, n_bins):\n",
    "    step = np.max(x) / n_bins\n",
    "    x = np.array(x)\n",
    "    for i in range(n_bins+1):\n",
    "        nx = i*step\n",
    "        px = max(0, (i-1)*step)\n",
    "        x[np.logical_and(x <= nx, x > px)] = nx\n",
    "    x[np.logical_and(x <= np.max(x), x > (n_bins*step))] = np.max(x)\n",
    "    return x.tolist()\n",
    "\n",
    "def bin_errors(x, y):\n",
    "    bins = np.unique(x)\n",
    "    y_mean = []\n",
    "    y_err = []\n",
    "    y = np.array(y)\n",
    "    for b in bins:\n",
    "        y_bin = y[x == b]\n",
    "        y_mean.append(np.mean(y_bin))\n",
    "        y_err.append(np.std(y_bin))\n",
    "    return np.array(y_mean), np.array(y_err)\n",
    "\n",
    "n_bins = 12\n",
    "\n",
    "x = age_truth\n",
    "y = age_errors\n",
    "\n",
    "sorted_lists = sorted(zip(x, y))\n",
    "sorted_x, sorted_y = zip(*sorted_lists)\n",
    "\n",
    "def display_error_curve(x, y, n_bins):\n",
    "    x = group_by(x, n_bins)\n",
    "    y, y_err = bin_errors(x, y)\n",
    "    x = np.unique(x)\n",
    "\n",
    "    plt.plot(x, y, 'k-', label='Prediction error')\n",
    "    plt.fill_between(x, y-y_err, y+y_err)\n",
    "    plt.show()\n",
    "\n",
    "display_error_curve(sorted_x, sorted_y, n_bins)\n",
    "display_error_curve(sorted_x, abs(np.array(sorted_y)), n_bins)\n",
    "\n",
    "# Age validation distribution\n",
    "age_data = pd.DataFrame(data={\"age\": x})\n",
    "age_data[\"age\"].hist(bins=n_bins)"
   ]
  },
  {
   "cell_type": "code",
   "execution_count": null,
   "metadata": {},
   "outputs": [],
   "source": [
    "#from mandrill.utils import save\n",
    "#name=\"exp1_regression\"\n",
    "#save(model, \"vgg_face\", exp_name=name)\n",
    "#print(\"saved\")"
   ]
  },
  {
   "cell_type": "code",
   "execution_count": null,
   "metadata": {},
   "outputs": [],
   "source": []
  }
 ],
 "metadata": {
  "kernelspec": {
   "display_name": "mar",
   "language": "python",
   "name": "python3"
  },
  "language_info": {
   "codemirror_mode": {
    "name": "ipython",
    "version": 3
   },
   "file_extension": ".py",
   "mimetype": "text/x-python",
   "name": "python",
   "nbconvert_exporter": "python",
   "pygments_lexer": "ipython3",
   "version": "3.9.16"
  }
 },
 "nbformat": 4,
 "nbformat_minor": 4
}

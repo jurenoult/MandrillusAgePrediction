{
 "cells": [
  {
   "cell_type": "code",
   "execution_count": 1,
   "metadata": {},
   "outputs": [
    {
     "name": "stdout",
     "output_type": "stream",
     "text": [
      "28834\n"
     ]
    },
    {
     "data": {
      "image/png": "[encoded data removed]",
      "text/plain": [
       "<Figure size 640x480 with 1 Axes>"
      ]
     },
     "metadata": {},
     "output_type": "display_data"
    }
   ],
   "source": [
    "import pandas as pd\n",
    "import datetime\n",
    "import numpy as np\n",
    "\n",
    "CSV_ROWS = [\n",
    "    \"Photo_Name\",\n",
    "    \"Id\",\n",
    "    \"Sex\",\n",
    "    \"dob\",\n",
    "    \"dob_estimated\",\n",
    "    \"error_dob\",\n",
    "    \"FaceView\",\n",
    "    \"FaceQual\",\n",
    "    \"Shootdate\"\n",
    "]\n",
    "\n",
    "def csvdate_to_date(shoot_date):\n",
    "    year, month, day = shoot_date.split(\"-\")\n",
    "    return datetime.date(int(year), int(month), int(day))    \n",
    "\n",
    "def compute_age(row):\n",
    "    photo_date = csvdate_to_date(row[\"Shootdate\"])\n",
    "    dob_date = csvdate_to_date(row[\"dob\"])\n",
    "    age = photo_date - dob_date\n",
    "    return age.days\n",
    "\n",
    "def add(row):\n",
    "   return row[0]+row[1]+row[2]\n",
    "\n",
    "data = pd.read_csv(\"MFD_metadatas.csv\", dtype={'Shootdate': str})\n",
    "data['Shootdate'].replace('nan', np.nan, inplace=True)\n",
    "data = data.dropna()\n",
    "data['age'] = data.apply(compute_age, axis=1)\n",
    "\n",
    "def filter_by_age(data, age_in_days):\n",
    "    return data[data['age'] <= age_in_days]\n",
    "\n",
    "def filter_by_certainty(data):\n",
    "    return data[data['dob_estimated'] == False]\n",
    "\n",
    "def filter_dob_errors(data):\n",
    "    return data[data[\"age\"] >= 0]\n",
    "\n",
    "# data[\"age\"].hist(bins=25)\n",
    "\n",
    "# data = filter_by_certainty(data)\n",
    "data = filter_dob_errors(data)\n",
    "data.reset_index(inplace=True, drop=True)\n",
    "\n",
    "# data[\"age\"].hist(bins=25)\n",
    "print(len(data))\n",
    "\n",
    "max_age = 25\n",
    "max_days = 365 * max_age\n",
    "\n",
    "one_year_data = filter_by_age(data, age_in_days=max_days)\n",
    "one_year_data.reset_index(drop=True, inplace=True)\n",
    "\n",
    "hist = one_year_data[\"age\"].hist(bins=25)\n",
    "\n",
    "\n"
   ]
  },
  {
   "cell_type": "code",
   "execution_count": 2,
   "metadata": {},
   "outputs": [],
   "source": [
    "def filter_by_qty(df, bins):\n",
    "    value_range = pd.cut(df['age'], bins)\n",
    "\n",
    "    print(value_range)\n",
    "    # Count the occurrences of each value range\n",
    "    range_counts = value_range.value_counts()\n",
    "\n",
    "    # Find the minimum count among the value ranges\n",
    "    min_count = range_counts.min()\n",
    "    print(range_counts)\n",
    "\n",
    "    # Filter the DataFrame to have the same number of occurrences for each value range\n",
    "    filtered_df = df.groupby(value_range).apply(lambda x: x.sample(200, replace=True))\n",
    "\n",
    "    # Reset the index of the filtered DataFrame\n",
    "    filtered_df = filtered_df.reset_index(drop=True)\n",
    "    return filtered_df\n",
    "\n",
    "#one_year_data = filter_by_qty(one_year_data, bins=50)\n",
    "#one_year_data.reset_index(inplace=True, drop=True)\n",
    "#one_year_data[\"age\"].hist(bins=25)\n",
    "#len(one_year_data)\n"
   ]
  },
  {
   "cell_type": "code",
   "execution_count": null,
   "metadata": {},
   "outputs": [
    {
     "name": "stderr",
     "output_type": "stream",
     "text": [
      "100%|██████████| 28834/28834 [02:34<00:00, 186.94it/s]\n"
     ]
    },
    {
     "name": "stdout",
     "output_type": "stream",
     "text": [
      "Using device: cuda\n",
      "\n",
      "Tesla T4\n",
      "Memory Usage:\n",
      "Allocated: 1.2 GB\n",
      "Cached:    1.2 GB\n"
     ]
    },
    {
     "name": "stderr",
     "output_type": "stream",
     "text": [
      "100%|██████████| 361/361 [07:19<00:00,  1.22s/it]\n",
      "100%|██████████| 91/91 [00:13<00:00,  6.72it/s]\n"
     ]
    },
    {
     "name": "stdout",
     "output_type": "stream",
     "text": [
      "Val loss improved from inf to 0.0574\n",
      "Epoch [1/500] - Train Loss: 5271.17126 - Train Dual loss: 0.92870 - Val L1: 0.05737\n"
     ]
    },
    {
     "name": "stderr",
     "output_type": "stream",
     "text": [
      "100%|██████████| 361/361 [07:05<00:00,  1.18s/it]\n",
      "100%|██████████| 91/91 [00:13<00:00,  6.72it/s]\n"
     ]
    },
    {
     "name": "stdout",
     "output_type": "stream",
     "text": [
      "Val loss improved from 0.0574 to 0.0467\n",
      "Epoch [2/500] - Train Loss: 897.79204 - Train Dual loss: 0.79702 - Val L1: 0.04668\n"
     ]
    },
    {
     "name": "stderr",
     "output_type": "stream",
     "text": [
      "100%|██████████| 361/361 [07:06<00:00,  1.18s/it]\n",
      "100%|██████████| 91/91 [00:14<00:00,  6.43it/s]\n"
     ]
    },
    {
     "name": "stdout",
     "output_type": "stream",
     "text": [
      "Val loss did not improved from 0.0467\n",
      "Epoch [3/500] - Train Loss: 660.68921 - Train Dual loss: 0.71530 - Val L1: 0.05909\n"
     ]
    },
    {
     "name": "stderr",
     "output_type": "stream",
     "text": [
      "100%|██████████| 361/361 [07:06<00:00,  1.18s/it]\n",
      "100%|██████████| 91/91 [00:13<00:00,  6.50it/s]\n"
     ]
    },
    {
     "name": "stdout",
     "output_type": "stream",
     "text": [
      "Val loss improved from 0.0467 to 0.0375\n",
      "Epoch [4/500] - Train Loss: 574.29105 - Train Dual loss: 0.64912 - Val L1: 0.03750\n"
     ]
    },
    {
     "name": "stderr",
     "output_type": "stream",
     "text": [
      "100%|██████████| 361/361 [07:03<00:00,  1.17s/it]\n",
      "100%|██████████| 91/91 [00:13<00:00,  6.78it/s]\n"
     ]
    },
    {
     "name": "stdout",
     "output_type": "stream",
     "text": [
      "Val loss did not improved from 0.0375\n",
      "Epoch [5/500] - Train Loss: 499.13567 - Train Dual loss: 0.59650 - Val L1: 0.03757\n"
     ]
    },
    {
     "name": "stderr",
     "output_type": "stream",
     "text": [
      "100%|██████████| 361/361 [07:05<00:00,  1.18s/it]\n",
      "100%|██████████| 91/91 [00:13<00:00,  6.81it/s]\n"
     ]
    },
    {
     "name": "stdout",
     "output_type": "stream",
     "text": [
      "Val loss did not improved from 0.0375\n",
      "Epoch [6/500] - Train Loss: 398.63484 - Train Dual loss: 0.55165 - Val L1: 0.03795\n"
     ]
    },
    {
     "name": "stderr",
     "output_type": "stream",
     "text": [
      "100%|██████████| 361/361 [07:04<00:00,  1.18s/it]\n",
      "100%|██████████| 91/91 [00:13<00:00,  6.74it/s]\n"
     ]
    },
    {
     "name": "stdout",
     "output_type": "stream",
     "text": [
      "Val loss improved from 0.0375 to 0.0359\n",
      "Epoch [7/500] - Train Loss: 381.02773 - Train Dual loss: 0.51078 - Val L1: 0.03590\n"
     ]
    },
    {
     "name": "stderr",
     "output_type": "stream",
     "text": [
      "100%|██████████| 361/361 [07:03<00:00,  1.17s/it]\n",
      "100%|██████████| 91/91 [00:13<00:00,  6.84it/s]\n"
     ]
    },
    {
     "name": "stdout",
     "output_type": "stream",
     "text": [
      "Val loss improved from 0.0359 to 0.0311\n",
      "Epoch [8/500] - Train Loss: 301.49039 - Train Dual loss: 0.47384 - Val L1: 0.03114\n"
     ]
    },
    {
     "name": "stderr",
     "output_type": "stream",
     "text": [
      "100%|██████████| 361/361 [07:03<00:00,  1.17s/it]\n",
      "100%|██████████| 91/91 [00:13<00:00,  6.75it/s]\n"
     ]
    },
    {
     "name": "stdout",
     "output_type": "stream",
     "text": [
      "Val loss did not improved from 0.0311\n",
      "Epoch [9/500] - Train Loss: 299.11232 - Train Dual loss: 0.44382 - Val L1: 0.03228\n"
     ]
    },
    {
     "name": "stderr",
     "output_type": "stream",
     "text": [
      "100%|██████████| 361/361 [07:04<00:00,  1.18s/it]\n",
      "100%|██████████| 91/91 [00:13<00:00,  6.65it/s]\n"
     ]
    },
    {
     "name": "stdout",
     "output_type": "stream",
     "text": [
      "Val loss did not improved from 0.0311\n",
      "Epoch [10/500] - Train Loss: 268.57775 - Train Dual loss: 0.41697 - Val L1: 0.03406\n"
     ]
    },
    {
     "name": "stderr",
     "output_type": "stream",
     "text": [
      "100%|██████████| 361/361 [07:04<00:00,  1.18s/it]\n",
      "100%|██████████| 91/91 [00:13<00:00,  6.63it/s]\n"
     ]
    },
    {
     "name": "stdout",
     "output_type": "stream",
     "text": [
      "Val loss did not improved from 0.0311\n",
      "Epoch [11/500] - Train Loss: 262.86569 - Train Dual loss: 0.39049 - Val L1: 0.03408\n"
     ]
    },
    {
     "name": "stderr",
     "output_type": "stream",
     "text": [
      "100%|██████████| 361/361 [07:04<00:00,  1.18s/it]\n",
      "100%|██████████| 91/91 [00:13<00:00,  6.72it/s]\n"
     ]
    },
    {
     "name": "stdout",
     "output_type": "stream",
     "text": [
      "Val loss did not improved from 0.0311\n",
      "Epoch [12/500] - Train Loss: 227.07734 - Train Dual loss: 0.36537 - Val L1: 0.03514\n"
     ]
    },
    {
     "name": "stderr",
     "output_type": "stream",
     "text": [
      "100%|██████████| 361/361 [07:04<00:00,  1.18s/it]\n",
      "100%|██████████| 91/91 [00:13<00:00,  6.73it/s]\n"
     ]
    },
    {
     "name": "stdout",
     "output_type": "stream",
     "text": [
      "Val loss did not improved from 0.0311\n",
      "Epoch [13/500] - Train Loss: 206.76359 - Train Dual loss: 0.34627 - Val L1: 0.03354\n"
     ]
    },
    {
     "name": "stderr",
     "output_type": "stream",
     "text": [
      "100%|██████████| 361/361 [07:05<00:00,  1.18s/it]\n",
      "100%|██████████| 91/91 [00:13<00:00,  6.91it/s]\n"
     ]
    },
    {
     "name": "stdout",
     "output_type": "stream",
     "text": [
      "Val loss improved from 0.0311 to 0.0304\n",
      "Epoch [14/500] - Train Loss: 206.94924 - Train Dual loss: 0.32499 - Val L1: 0.03041\n"
     ]
    },
    {
     "name": "stderr",
     "output_type": "stream",
     "text": [
      "100%|██████████| 361/361 [07:04<00:00,  1.18s/it]\n",
      "100%|██████████| 91/91 [00:13<00:00,  6.83it/s]\n"
     ]
    },
    {
     "name": "stdout",
     "output_type": "stream",
     "text": [
      "Val loss improved from 0.0304 to 0.0277\n",
      "Epoch [15/500] - Train Loss: 164.17012 - Train Dual loss: 0.31304 - Val L1: 0.02771\n"
     ]
    },
    {
     "name": "stderr",
     "output_type": "stream",
     "text": [
      "100%|██████████| 361/361 [07:05<00:00,  1.18s/it]\n",
      "100%|██████████| 91/91 [00:13<00:00,  6.92it/s]\n"
     ]
    },
    {
     "name": "stdout",
     "output_type": "stream",
     "text": [
      "Val loss did not improved from 0.0277\n",
      "Epoch [16/500] - Train Loss: 166.51475 - Train Dual loss: 0.29346 - Val L1: 0.02797\n"
     ]
    },
    {
     "name": "stderr",
     "output_type": "stream",
     "text": [
      "100%|██████████| 361/361 [07:03<00:00,  1.17s/it]\n",
      "100%|██████████| 91/91 [00:13<00:00,  6.66it/s]\n"
     ]
    },
    {
     "name": "stdout",
     "output_type": "stream",
     "text": [
      "Val loss improved from 0.0277 to 0.0263\n",
      "Epoch [17/500] - Train Loss: 139.24956 - Train Dual loss: 0.28182 - Val L1: 0.02627\n"
     ]
    },
    {
     "name": "stderr",
     "output_type": "stream",
     "text": [
      "100%|██████████| 361/361 [07:06<00:00,  1.18s/it]\n",
      "100%|██████████| 91/91 [00:13<00:00,  6.61it/s]\n"
     ]
    },
    {
     "name": "stdout",
     "output_type": "stream",
     "text": [
      "Val loss did not improved from 0.0263\n",
      "Epoch [18/500] - Train Loss: 141.50537 - Train Dual loss: 0.26968 - Val L1: 0.02938\n"
     ]
    },
    {
     "name": "stderr",
     "output_type": "stream",
     "text": [
      "100%|██████████| 361/361 [07:06<00:00,  1.18s/it]\n",
      "100%|██████████| 91/91 [00:13<00:00,  6.54it/s]\n"
     ]
    },
    {
     "name": "stdout",
     "output_type": "stream",
     "text": [
      "Val loss did not improved from 0.0263\n",
      "Epoch [19/500] - Train Loss: 135.05692 - Train Dual loss: 0.25623 - Val L1: 0.03207\n"
     ]
    },
    {
     "name": "stderr",
     "output_type": "stream",
     "text": [
      "100%|██████████| 361/361 [07:05<00:00,  1.18s/it]\n",
      "100%|██████████| 91/91 [00:13<00:00,  6.63it/s]\n"
     ]
    },
    {
     "name": "stdout",
     "output_type": "stream",
     "text": [
      "Val loss improved from 0.0263 to 0.0253\n",
      "Epoch [20/500] - Train Loss: 127.64322 - Train Dual loss: 0.24629 - Val L1: 0.02528\n"
     ]
    },
    {
     "name": "stderr",
     "output_type": "stream",
     "text": [
      "100%|██████████| 361/361 [07:04<00:00,  1.18s/it]\n",
      "100%|██████████| 91/91 [00:13<00:00,  6.84it/s]\n"
     ]
    },
    {
     "name": "stdout",
     "output_type": "stream",
     "text": [
      "Val loss did not improved from 0.0253\n",
      "Epoch [21/500] - Train Loss: 113.91151 - Train Dual loss: 0.23374 - Val L1: 0.02633\n"
     ]
    },
    {
     "name": "stderr",
     "output_type": "stream",
     "text": [
      "100%|██████████| 361/361 [07:04<00:00,  1.18s/it]\n",
      "100%|██████████| 91/91 [00:13<00:00,  6.86it/s]\n"
     ]
    },
    {
     "name": "stdout",
     "output_type": "stream",
     "text": [
      "Val loss improved from 0.0253 to 0.0252\n",
      "Epoch [22/500] - Train Loss: 119.78758 - Train Dual loss: 0.22861 - Val L1: 0.02518\n"
     ]
    },
    {
     "name": "stderr",
     "output_type": "stream",
     "text": [
      "100%|██████████| 361/361 [07:04<00:00,  1.18s/it]\n",
      "100%|██████████| 91/91 [00:13<00:00,  6.73it/s]\n"
     ]
    },
    {
     "name": "stdout",
     "output_type": "stream",
     "text": [
      "Val loss did not improved from 0.0252\n",
      "Epoch [23/500] - Train Loss: 100.63225 - Train Dual loss: 0.21804 - Val L1: 0.02565\n"
     ]
    },
    {
     "name": "stderr",
     "output_type": "stream",
     "text": [
      "100%|██████████| 361/361 [07:05<00:00,  1.18s/it]\n",
      "100%|██████████| 91/91 [00:13<00:00,  6.74it/s]\n"
     ]
    },
    {
     "name": "stdout",
     "output_type": "stream",
     "text": [
      "Val loss did not improved from 0.0252\n",
      "Epoch [24/500] - Train Loss: 92.96303 - Train Dual loss: 0.20882 - Val L1: 0.02716\n"
     ]
    },
    {
     "name": "stderr",
     "output_type": "stream",
     "text": [
      "100%|██████████| 361/361 [07:05<00:00,  1.18s/it]\n",
      "100%|██████████| 91/91 [00:13<00:00,  6.78it/s]\n"
     ]
    },
    {
     "name": "stdout",
     "output_type": "stream",
     "text": [
      "Val loss improved from 0.0252 to 0.0240\n",
      "Epoch [25/500] - Train Loss: 107.92178 - Train Dual loss: 0.20010 - Val L1: 0.02396\n"
     ]
    },
    {
     "name": "stderr",
     "output_type": "stream",
     "text": [
      "100%|██████████| 361/361 [07:03<00:00,  1.17s/it]\n",
      "100%|██████████| 91/91 [00:13<00:00,  6.83it/s]\n"
     ]
    },
    {
     "name": "stdout",
     "output_type": "stream",
     "text": [
      "Val loss improved from 0.0240 to 0.0226\n",
      "Epoch [26/500] - Train Loss: 89.61135 - Train Dual loss: 0.19391 - Val L1: 0.02264\n"
     ]
    },
    {
     "name": "stderr",
     "output_type": "stream",
     "text": [
      " 31%|███       | 111/361 [02:10<04:55,  1.18s/it]"
     ]
    }
   ],
   "source": [
    "import torch\n",
    "import torch.nn as nn\n",
    "import torch.optim as optim\n",
    "from torch.utils.data import Dataset, DataLoader, random_split\n",
    "from torchvision.models import resnet18\n",
    "import cv2\n",
    "import os\n",
    "from tqdm import tqdm\n",
    "import random\n",
    "\n",
    "# Define your custom dataset\n",
    "class MandrillImageDataset(Dataset):\n",
    "    def __init__(self, root_dir, dataframe, img_size=(224, 224), device=\"cuda\", in_mem=True):\n",
    "        self.df = dataframe\n",
    "        self.root_dir = root_dir\n",
    "        self.img_size = img_size\n",
    "        self.in_mem = in_mem\n",
    "        if self.in_mem:\n",
    "            self.images = []\n",
    "            for i in tqdm(range(len(self.df))):\n",
    "                row = self.df.iloc[[i]]\n",
    "                self.images.append(self.load_photo(row))\n",
    "\n",
    "    def load_photo(self, row):\n",
    "        image_path = self.photo_path(row)\n",
    "        image = cv2.imread(image_path)\n",
    "        if image.shape[0:2] != self.img_size:\n",
    "            image = cv2.resize(image, self.img_size, interpolation = cv2.INTER_AREA)\n",
    "        image = np.moveaxis(image, -1, 0) # Channel first format\n",
    "        image = image.astype(np.float32) / 255.0\n",
    "        return image\n",
    "            \n",
    "    def photo_path(self, row):\n",
    "        return os.path.join(self.root_dir, f\"{row['Id'].values[0]}\", f\"{row['Photo_Name'].values[0]}\")\n",
    "        \n",
    "    def __len__(self):\n",
    "        return len(self.df)\n",
    "    \n",
    "    def _getpair(self, idx):\n",
    "        row = self.df.iloc[[idx]]\n",
    "\n",
    "        target = float(row[\"age\"].values[0])\n",
    "        target = target / max_days\n",
    "\n",
    "        if self.in_mem:\n",
    "            image = self.images[idx]\n",
    "        else:\n",
    "            image = self.load_photo(row)\n",
    "        return torch.tensor(image).to(device), torch.tensor(target).to(device)\n",
    "    \n",
    "    def set_images(self, images):\n",
    "        self.images = images\n",
    "        self.in_mem = True\n",
    "    \n",
    "    def __getitem__(self, idx):\n",
    "        return self._getpair(idx)\n",
    "\n",
    "class MandrillDualImageDataset(MandrillImageDataset):\n",
    "    def __init__(self, root_dir, dataframe, img_size=(224, 224), device=\"cuda\", images=None, in_mem=False):\n",
    "        super(MandrillDualImageDataset, self).__init__(root_dir, dataframe, img_size, device, in_mem)\n",
    "        if images is not None:\n",
    "            self.images = images\n",
    "            self.in_mem = True\n",
    "                    \n",
    "    def get_same_mandrill_idx(self, mandrill_id):\n",
    "        ids = self.df[self.df.Id == mandrill_id].index\n",
    "        return ids\n",
    "    \n",
    "    def __getitem__(self, idx):\n",
    "        # Randomize\n",
    "        idx = random.randint(0, len(self)-1)\n",
    "        #row = self.df.iloc[[idx]]\n",
    "        #mandrill_id = row[\"Id\"].values[0]\n",
    "        #ids = self.get_same_mandrill_idx(mandrill_id)\n",
    "        #second_idx = random.choice(ids)\n",
    "        \n",
    "        second_idx = random.randint(0, len(self)-1)\n",
    "        x1, y1 = self._getpair(idx)\n",
    "        x2, y2 = self._getpair(second_idx)\n",
    "\n",
    "        # y1 = y1.cpu().numpy()\n",
    "        # y2 = y2.cpu().numpy()\n",
    "        sign = torch.sign(y1 - y2)\n",
    "        y = torch.zeros([3], device=device)\n",
    "        y[int(sign) + 1] = 1\n",
    "        return [x1, x2], y\n",
    "\n",
    "class MandrillTripleImageDataset(MandrillImageDataset):\n",
    "    def __init__(self, root_dir, dataframe, img_size=(224, 224), device=\"cuda\", images=None, in_mem=False):\n",
    "        super(MandrillTripleImageDataset, self).__init__(root_dir, dataframe, img_size, device, in_mem)\n",
    "        if images is not None:\n",
    "            self.images = images\n",
    "            self.in_mem = True\n",
    "    \n",
    "    def __getitem__(self, idx):\n",
    "        # Get three random idx\n",
    "        second_idx = random.randint(0, len(self)-1)\n",
    "        third_idx = random.randint(0, len(self)-1)\n",
    "        x1, y1 = self._getpair(idx)\n",
    "        x2, y2 = self._getpair(idx2)\n",
    "        x3, y3 = self._getpair(idx3)\n",
    "        \n",
    "        y2y1 = abs(y1 - y2)\n",
    "        y3y1 = abs(y1 - y3)\n",
    "        \n",
    "        if y2y1 > y3y1:\n",
    "            triplet = ((x1, x3, x2), (y1, y3, y2))\n",
    "        else:\n",
    "            triplet = ((x1, x2, x3), (y1, y2, y3))\n",
    "        x, y = triplet\n",
    "        return x, y\n",
    "    \n",
    "# Define your model\n",
    "from collections import OrderedDict\n",
    "def build_layers(n, method, prev_features, current_features, down=True):\n",
    "    layers = OrderedDict()\n",
    "    for i in range(n):\n",
    "        layers[str(i)] = method(prev_features, current_features)\n",
    "        prev_features = current_features\n",
    "        if down:\n",
    "            current_features = current_features // 2\n",
    "        else:\n",
    "            current_features = current_features * 2\n",
    "    return layers, prev_features\n",
    "\n",
    "    \n",
    "class BackboneRegressionModel(nn.Module):\n",
    "    def __init__(self, im_size=224, n_channels=3, conv_start=64, n_convs=5):\n",
    "        super(BackboneRegressionModel, self).__init__()\n",
    "        previous_feature_size = n_channels\n",
    "        current_feature_size = conv_start\n",
    "        convs_layers, last_feature_size = build_layers(\n",
    "            n_convs, self.conv_block, previous_feature_size, current_feature_size, down=False\n",
    "        )\n",
    "        self.conv_blocks = nn.Sequential(convs_layers)\n",
    "        \n",
    "        last_scale = (2 ** (n_convs))\n",
    "        last_size = im_size // last_scale\n",
    "        self.last_layer_size = last_feature_size * last_size * last_size\n",
    "\n",
    "    def conv_block(self, in_features, out_features):\n",
    "        conv = nn.Conv2d(in_features, out_features, 3, padding=\"same\")\n",
    "        relu = nn.ReLU(inplace=True)\n",
    "        bn = nn.BatchNorm2d(out_features)\n",
    "        pool = nn.MaxPool2d((2,2))\n",
    "        return nn.Sequential(conv, relu, bn, pool)\n",
    "    \n",
    "    def forward(self, x):\n",
    "        return self.conv_blocks(x)\n",
    "\n",
    "class RegressionModel(nn.Module):\n",
    "    def __init__(self, cnn_backbone, lin_start=2048, n_lin=6):\n",
    "        super(RegressionModel, self).__init__()\n",
    "        self.cnn_backbone = cnn_backbone\n",
    "\n",
    "        ############ Dense layers ########\n",
    "        previous_feature_size = self.cnn_backbone.last_layer_size\n",
    "        current_feature_size = lin_start\n",
    "        lin_layers, last_feature_size = build_layers(\n",
    "            n_lin, self.block, previous_feature_size, current_feature_size\n",
    "        )\n",
    "        self.blocks = nn.Sequential(lin_layers)\n",
    "        self.age = nn.Linear(last_feature_size, 1)\n",
    "\n",
    "    def block(self, in_features, out_features):\n",
    "        lin = nn.Linear(in_features, out_features)\n",
    "        relu = nn.ReLU(inplace=True)\n",
    "        return nn.Sequential(lin, relu)\n",
    "\n",
    "    def __del__(self):\n",
    "        del self.conv_blocks\n",
    "        del self.blocks\n",
    "        del self.x_coords\n",
    "        del self.y_coords\n",
    "\n",
    "    def forward(self, x):\n",
    "        z = self.cnn_backbone(x)\n",
    "        z = torch.reshape(z, (z.shape[0], z.shape[1] * z.shape[2] * z.shape[3]))\n",
    "        z = self.blocks(z)\n",
    "        z = self.age(z)\n",
    "        z = torch.reshape(z, (z.shape[0],))\n",
    "        return z\n",
    "\n",
    "class DualRegressionModel(nn.Module):\n",
    "    def __init__(self, cnn_backbone, lin_start=2048, n_lin=6):\n",
    "        super(DualRegressionModel, self).__init__()\n",
    "        self.cnn_backbone = cnn_backbone\n",
    "        \n",
    "        previous_feature_size = 2* self.cnn_backbone.last_layer_size\n",
    "        current_feature_size = lin_start\n",
    "        lin_layers, last_feature_size = build_layers(\n",
    "            n_lin, self.block, previous_feature_size, current_feature_size\n",
    "        )\n",
    "        self.blocks = nn.Sequential(lin_layers)\n",
    "        self.age_gap = nn.Linear(last_feature_size, 3)\n",
    "        # self.activation = nn.Softmax()\n",
    "    \n",
    "    def block(self, in_features, out_features):\n",
    "        lin = nn.Linear(in_features, out_features)\n",
    "        relu = nn.ReLU(inplace=True)\n",
    "        return nn.Sequential(lin, relu)\n",
    "    \n",
    "    def get_z(self, x):\n",
    "        z = self.cnn_backbone(x)\n",
    "        z = torch.reshape(z, (z.shape[0], z.shape[1] * z.shape[2] * z.shape[3]))\n",
    "        return z\n",
    "\n",
    "    def forward(self, x):\n",
    "        x1, x2 = x\n",
    "        z1 = self.get_z(x1)\n",
    "        z2 = self.get_z(x2)\n",
    "        z = torch.cat([z1, z2], axis=-1)\n",
    "        z = self.blocks(z)\n",
    "        z = self.age_gap(z)\n",
    "        # z = torch.reshape(z, (z.shape[0],))\n",
    "        # z = self.activation(z)\n",
    "        return z\n",
    "\n",
    "class TripletRegressionModel(nn.Module):\n",
    "    def __init__(self, cnn_backbone, lin_start=2048, n_lin=6):\n",
    "        super(TripletRegressionModel, self).__init__()\n",
    "        self.cnn_backbone = cnn_backbone\n",
    "        previous_feature_size = 3* self.cnn_backbone.last_layer_size\n",
    "        current_feature_size = lin_start\n",
    "        lin_layers, last_feature_size = build_layers(\n",
    "            n_lin, self.block, previous_feature_size, current_feature_size\n",
    "        )\n",
    "        self.blocks = nn.Sequential(lin_layers)\n",
    "        self.age_gap = nn.Linear(last_feature_size, 3)\n",
    "    \n",
    "learning_rate = 0.001\n",
    "dual_learning_rate = 0.001\n",
    "batch_size = 64\n",
    "num_epochs = 500\n",
    "train_ratio = 0.8\n",
    "\n",
    "# Dataset and DataLoader\n",
    "dataset = MandrillImageDataset(root_dir='Images', dataframe=one_year_data, in_mem=True)\n",
    "dual_dataset = MandrillDualImageDataset(root_dir='Images', dataframe=one_year_data, in_mem=False)\n",
    "dual_dataset.set_images(dataset.images)\n",
    "triplet_dataset = MandrilTripleImageDataset(root_dir='Images', dataframe=one_year_data, in_mem=False)\n",
    "triplet_dataset.set_images(dataset.images)\n",
    "\n",
    "\n",
    "def split_dataset(dataset, train_ratio, batch_size):\n",
    "    # Split the dataset into training and validation subsets\n",
    "    train_size = int(train_ratio * len(dataset))\n",
    "    val_size = len(dataset) - train_size\n",
    "    train_dataset, val_dataset = random_split(dataset, [train_size, val_size])\n",
    "\n",
    "    train_loader = DataLoader(train_dataset, batch_size=batch_size, shuffle=True)\n",
    "    val_loader = DataLoader(val_dataset, batch_size=batch_size, shuffle=False)\n",
    "    return train_loader, val_loader, train_dataset, val_dataset\n",
    "\n",
    "train_loader, val_loader, train_dataset, val_dataset = split_dataset(dataset, train_ratio, batch_size)\n",
    "dual_train_loader, dual_val_loader, _, _ = split_dataset(dual_dataset, train_ratio, batch_size)\n",
    "triplet_train_loader, triplet_val_loader, _, _ = split_dataset(triplet_dataset, train_ratio, batch_size)\n",
    "\n",
    "device = torch.device('cuda' if torch.cuda.is_available() else 'cpu')\n",
    "print('Using device:', device)\n",
    "print()\n",
    "\n",
    "# Model\n",
    "backbone = BackboneRegressionModel()\n",
    "backbone = backbone.to(device)\n",
    "model = RegressionModel(backbone)\n",
    "dual_model = DualRegressionModel(backbone)\n",
    "triplet_model = TripletRegressionModel(backbone)\n",
    "\n",
    "# Loss function\n",
    "mse = nn.MSELoss()\n",
    "\n",
    "class WeightedMSELoss(nn.Module):\n",
    "    def __init__(self):\n",
    "        super(WeightedMSELoss, self).__init__()\n",
    "        self.epsilon = 1e-6\n",
    "\n",
    "    def forward(self, prediction, true_value):\n",
    "        log_pred = torch.log(abs(prediction) * self.epsilon) * max_days\n",
    "        log_true = torch.log(abs(true_value) + self.epsilon) * max_days\n",
    "        log_diff = log_true - log_pred # Compute logarithmic difference\n",
    "        weighted_mse = torch.mean(abs(log_diff) * torch.pow(prediction - true_value, 2))  # Weighted MSE\n",
    "        return weighted_mse\n",
    "\n",
    "criterion = WeightedMSELoss()\n",
    "dual_criterion = nn.CrossEntropyLoss()\n",
    "val_criterion = nn.L1Loss()\n",
    "\n",
    "# Optimizer\n",
    "optimizer = optim.Adam(model.parameters(), lr=learning_rate)\n",
    "dual_optimizer = optim.Adam(model.parameters(), lr=dual_learning_rate)\n",
    "\n",
    "\n",
    "model = model.to(device)\n",
    "dual_model = dual_model.to(device)\n",
    "\n",
    "if device.type == 'cuda':\n",
    "    print(torch.cuda.get_device_name(0))\n",
    "    print('Memory Usage:')\n",
    "    print('Allocated:', round(torch.cuda.memory_allocated(0)/1024**3,1), 'GB')\n",
    "    print('Cached:   ', round(torch.cuda.memory_reserved(0)/1024**3,1), 'GB')\n",
    "    \n",
    "    \n",
    "def train_step(loader, index, optimizer, model, criterion):\n",
    "    images, labels = next(iter(loader))\n",
    "    optimizer.zero_grad()\n",
    "\n",
    "    # Forward pass\n",
    "    outputs = model(images)\n",
    "    loss = criterion(outputs, labels)\n",
    "\n",
    "    # Backward pass and optimization\n",
    "    loss.backward()\n",
    "    optimizer.step()\n",
    "    \n",
    "    size = 0\n",
    "    if isinstance(images, list):\n",
    "        size = images[0].size(0)\n",
    "    else:\n",
    "        size = images.size(0)\n",
    "\n",
    "    return loss.item() * size\n",
    "    \n",
    "def save(backbone, model, dual_model, prefix):\n",
    "    torch.save(backbone.state_dict(), f\"models/{prefix}_exp4_backbone.h5\")\n",
    "    torch.save(model.state_dict(), f\"models/{prefix}_exp4_model.h5\")\n",
    "    torch.save(dual_model.state_dict(), f\"models/{prefix}exp4_dual_model.h5\")\n",
    "    \n",
    "def load(backbone, model, dual_model, prefix):\n",
    "    backbone.load_state_dict(torch.load(f\"models/{prefix}_exp4_backbone.h5\"))\n",
    "    model.load_state_dict(torch.load(f\"models/{prefix}_exp4_model.h5\"))\n",
    "    dual_model.load_state_dict(torch.load(f\"models/{prefix}exp4_dual_model.h5\"))\n",
    "    return backbone, model, dual_model\n",
    "\n",
    "#######\n",
    "train = True\n",
    "#######\n",
    "    \n",
    "if train:\n",
    "\n",
    "    # Training loop\n",
    "    best_val = np.inf\n",
    "    for epoch in range(num_epochs):\n",
    "        model.train()  # Set the model to train mode\n",
    "        train_loss = 0.0\n",
    "        dual_train_loss = 0.0\n",
    "        steps = len(train_loader)\n",
    "\n",
    "        for i in tqdm(range(steps)):\n",
    "            train_loss += train_step(train_loader, i, optimizer, model, criterion)\n",
    "            dual_train_loss += train_step(dual_train_loader, i, dual_optimizer, dual_model, dual_criterion)\n",
    "\n",
    "        train_loss /= len(train_dataset)\n",
    "        dual_train_loss /= len(train_dataset)\n",
    "\n",
    "        # Validation loop\n",
    "        model.eval()  # Set the model to evaluation mode\n",
    "        val_loss = 0.0\n",
    "\n",
    "        with torch.no_grad():\n",
    "            for images, labels in tqdm(val_loader):\n",
    "                outputs = model(images)\n",
    "                loss = val_criterion(outputs, labels)\n",
    "                val_loss += loss.item() * images.size(0)\n",
    "\n",
    "        val_loss /= len(val_dataset)\n",
    "\n",
    "        if val_loss < best_val:\n",
    "            print(f\"Val loss improved from {best_val:.4f} to {val_loss:.4f}\")\n",
    "            best_val = val_loss\n",
    "            save(backbone, model, dual_model, \"best\")\n",
    "        else:\n",
    "            print(f\"Val loss did not improved from {best_val:.4f}\")\n",
    "\n",
    "        # Print training and validation metrics\n",
    "        print(f\"Epoch [{epoch+1}/{num_epochs}] - \"\n",
    "              f\"Train Loss: {train_loss:.5f} - \"\n",
    "              f\"Train Dual loss: {dual_train_loss:.5f} - \"\n",
    "              f\"Val L1: {val_loss:.5f}\")\n",
    "\n",
    "    torch.save(backbone.state_dict(), \"models/exp4_backbone.h5\")\n",
    "    torch.save(model.state_dict(), \"models/exp4_model.h5\")\n",
    "    torch.save(dual_model.state_dict(), \"models/exp4_dual_model.h5\")"
   ]
  },
  {
   "cell_type": "code",
   "execution_count": null,
   "metadata": {},
   "outputs": [],
   "source": [
    "import matplotlib.pyplot as plt\n",
    "\n",
    "backbone, model, dual_model = load(backbone, model, dual_model, \"best\")\n",
    "\n",
    "val_loader = DataLoader(val_dataset, batch_size=1, shuffle=True)\n",
    "\n",
    "max_display = 10\n",
    "\n",
    "age_errors = []\n",
    "age_truth = []\n",
    "age_predicted = []\n",
    "\n",
    "# Perform inference on validation images\n",
    "for i, (images, targets) in enumerate(val_loader):\n",
    "    # Forward pass\n",
    "    outputs = model(images)\n",
    "    \n",
    "    # Convert the outputs to numpy arrays\n",
    "    predicted_values = outputs.squeeze().detach().cpu().numpy() * max_days\n",
    "    actual_values = targets.squeeze().cpu().numpy() * max_days\n",
    "    \n",
    "    age_errors.append(predicted_values - actual_values)\n",
    "    age_truth.append(actual_values)\n",
    "    age_predicted.append(predicted_values)\n",
    "    \n",
    "    if i >= max_display:\n",
    "        continue\n",
    "    \n",
    "    # Visualize the images and predictions\n",
    "    plt.imshow(images.squeeze().cpu().permute(1, 2, 0))\n",
    "    plt.title(f\"Predicted: {predicted_values}, Actual: {actual_values}\")\n",
    "    plt.show()\n",
    "\n",
    "    # Display the results\n",
    "    print(\"Predicted Values:\", predicted_values, \" (years : \", predicted_values / 365, \" )\")\n",
    "    print(\"Actual Values:\", actual_values, \" (years : \", actual_values / 365, \" ) \")\n",
    "    print(\"Prediction Error: \", (predicted_values - actual_values) / 365)\n",
    "    print()  # Add an empty line for separation\n",
    "    \n",
    "    \n",
    "age_errors = np.array(age_errors)\n",
    "print(\"Age error (in days): \", np.mean(age_errors), \" std: \", np.std(age_errors))"
   ]
  },
  {
   "cell_type": "code",
   "execution_count": null,
   "metadata": {},
   "outputs": [],
   "source": [
    "# Histogram with x being the real age and y being the error on this age\n",
    "# Plotting the histogram\n",
    "\n",
    "def group_by(x, n_bins):\n",
    "    step = np.max(x) / n_bins\n",
    "    x = np.array(x)\n",
    "    for i in range(n_bins+1):\n",
    "        nx = i*step\n",
    "        px = max(0, (i-1)*step)\n",
    "        x[np.logical_and(x <= nx, x > px)] = nx\n",
    "    x[np.logical_and(x <= np.max(x), x > (n_bins*step))] = np.max(x)\n",
    "    return x.tolist()\n",
    "\n",
    "def bin_errors(x, y):\n",
    "    bins = np.unique(x)\n",
    "    y_mean = []\n",
    "    y_err = []\n",
    "    y = np.array(y)\n",
    "    for b in bins:\n",
    "        y_bin = y[x == b]\n",
    "        y_mean.append(np.mean(y_bin))\n",
    "        y_err.append(np.std(y_bin))\n",
    "    return np.array(y_mean), np.array(y_err)\n",
    "\n",
    "n_bins = 25*2\n",
    "\n",
    "x = age_truth\n",
    "y = age_errors\n",
    "\n",
    "sorted_lists = sorted(zip(x, y))\n",
    "sorted_x, sorted_y = zip(*sorted_lists)\n",
    "\n",
    "def display_error_curve(x, y, n_bins):\n",
    "    x = group_by(x, n_bins)\n",
    "    y, y_err = bin_errors(x, y)\n",
    "    x = np.unique(x)\n",
    "\n",
    "    plt.plot(x, y, 'k-', label='Prediction error')\n",
    "    plt.fill_between(x, y-y_err, y+y_err)\n",
    "    \n",
    "    z = np.poly1d(np.polyfit(x, y, 2))\n",
    "    plt.plot(x, z(x), color='red')\n",
    "    \n",
    "    plt.show()\n",
    "\n",
    "display_error_curve(sorted_x, sorted_y, n_bins)\n",
    "display_error_curve(sorted_x, abs(np.array(sorted_y)), n_bins)\n",
    "\n",
    "# Distribution of image according to the age\n",
    "hist = one_year_data[\"age\"].hist(bins=n_bins)"
   ]
  },
  {
   "cell_type": "code",
   "execution_count": null,
   "metadata": {},
   "outputs": [],
   "source": []
  }
 ],
 "metadata": {
  "kernelspec": {
   "display_name": "vtf",
   "language": "python",
   "name": "vtf"
  },
  "language_info": {
   "codemirror_mode": {
    "name": "ipython",
    "version": 3
   },
   "file_extension": ".py",
   "mimetype": "text/x-python",
   "name": "python",
   "nbconvert_exporter": "python",
   "pygments_lexer": "ipython3",
   "version": "3.9.2"
  }
 },
 "nbformat": 4,
 "nbformat_minor": 4
}
